{
 "cells": [
  {
   "cell_type": "markdown",
   "id": "2b646046",
   "metadata": {},
   "source": [
    "# Import Required libraries"
   ]
  },
  {
   "cell_type": "code",
   "execution_count": 24,
   "id": "c257d619",
   "metadata": {},
   "outputs": [],
   "source": [
    "import pandas as pd\n",
    "from selenium import webdriver\n",
    "from selenium.webdriver.common.by import By\n",
    "from time import sleep\n",
    "from selenium.webdriver.support.ui import Select\n",
    "from selenium.webdriver.chrome.service import Service\n",
    "from selenium.webdriver.chrome.options import Options\n",
    "from webdriver_manager.chrome import ChromeDriverManager\n",
    "\n",
    "chrome_options = Options()\n",
    "chrome_options.add_experimental_option(\"detach\",True)\n",
    "\n",
    "driver = webdriver.Chrome(service=Service(ChromeDriverManager().install()),options=chrome_options)\n",
    "\n",
    "#Set Chromedriver path\n",
    "#driver = webdriver.Chrome(executable_path='D:\\Learnings\\web_driver\\chromedriver.exe')\n",
    "\n",
    "#Get the link for browser and maximize the window\n",
    "driver.get('https://data.boursakuwait.com.kw/Default.aspx')\n",
    "driver.maximize_window()"
   ]
  },
  {
   "cell_type": "markdown",
   "id": "80afabbc",
   "metadata": {},
   "source": [
    "# Login in the Website"
   ]
  },
  {
   "cell_type": "code",
   "execution_count": 25,
   "id": "c6ee2f2d",
   "metadata": {},
   "outputs": [],
   "source": [
    "login_id = driver.find_element(By.XPATH,\"//input[@id='MainContent_txtLoginEmail']\")\n",
    "login_pas = driver.find_element(By.XPATH,\"//input[@id='MainContent_txtLoginPassword']\")\n",
    "login = driver.find_element(By.XPATH,\"//input[@id='MainContent_btnLogon']\")\n",
    "\n",
    "login_id.send_keys(\"ser001083@gmail.com\")\n",
    "login_pas.send_keys(\"Vikram@123\")\n",
    "login.click()"
   ]
  },
  {
   "cell_type": "markdown",
   "id": "9000b021",
   "metadata": {},
   "source": [
    "# Data Scraping From Website"
   ]
  },
  {
   "cell_type": "code",
   "execution_count": 26,
   "id": "51b38941",
   "metadata": {
    "scrolled": true
   },
   "outputs": [],
   "source": [
    "driver.find_element(By.XPATH,\"//*[@id='ContentHeader_BKHeaderContent_liHistory2']/a\").click()\n",
    "driver.find_element(By.XPATH,'//*[@id=\"MainContent_SectList\"]')\n",
    "driver.find_element(By.XPATH,'//*[@id=\"MainContent_SectList\"]/option[2]').click()"
   ]
  },
  {
   "cell_type": "markdown",
   "id": "5e1d93cf",
   "metadata": {},
   "source": [
    "# Selecting date from website"
   ]
  },
  {
   "cell_type": "code",
   "execution_count": 27,
   "id": "297e6015",
   "metadata": {},
   "outputs": [],
   "source": [
    "driver.find_element(By.XPATH,'//*[@id=\"MainContent_calenderCtrlFrm_Control\"]/img').click()\n",
    "driver.find_element(By.XPATH,'//*[@id=\"popupSuperSpanYear0\"]').click()\n",
    "driver.find_element(By.XPATH,'//*[@id=\"popupSuperYear0\"]').click()\n",
    "driver.find_element(By.XPATH,'//*[@id=\"popupSuperSpanMonth0\"]').click()\n",
    "driver.find_element(By.XPATH,'//*[@id=\"popupSuperMonth0\"]').click()"
   ]
  },
  {
   "cell_type": "markdown",
   "id": "69462514",
   "metadata": {},
   "source": [
    "# Looping the date from the website"
   ]
  },
  {
   "cell_type": "code",
   "execution_count": 28,
   "id": "220e05ae",
   "metadata": {
    "scrolled": true
   },
   "outputs": [],
   "source": [
    "dates = []\n",
    "for j in range(2,7):\n",
    "    for i in range(1,6):\n",
    "        try:\n",
    "            d = driver.find_element(By.XPATH,'//*[@id=\"popupSuperContent0\"]/table/tbody/tr[{}]/td[{}]/span'.format(j,i))\n",
    "            d.click()\n",
    "        except:\n",
    "            d = \"\"\n",
    "            \n",
    "        driver.find_element(By.XPATH,' //*[@id=\"MainContent_showDataBtn\"]').click()\n",
    "        sleep(3)\n",
    "        try:\n",
    "            c = driver.find_element(By.XPATH,'//*[@id=\"MainContent_btnDwn\"]')\n",
    "            c.click()\n",
    "        except:\n",
    "            c = \"\"\n",
    "        driver.find_element(By.XPATH,'/html/body/form/section/section/div[1]/div[2]/div/section/div[3]/div/section/div/div/div[1]/div/div/div[2]/div/span/img').click()"
   ]
  },
  {
   "cell_type": "code",
   "execution_count": 23,
   "id": "7281eefa",
   "metadata": {},
   "outputs": [],
   "source": [
    "driver.quit()"
   ]
  },
  {
   "cell_type": "code",
   "execution_count": null,
   "id": "7eca77e2",
   "metadata": {},
   "outputs": [],
   "source": []
  }
 ],
 "metadata": {
  "kernelspec": {
   "display_name": "Python 3 (ipykernel)",
   "language": "python",
   "name": "python3"
  },
  "language_info": {
   "codemirror_mode": {
    "name": "ipython",
    "version": 3
   },
   "file_extension": ".py",
   "mimetype": "text/x-python",
   "name": "python",
   "nbconvert_exporter": "python",
   "pygments_lexer": "ipython3",
   "version": "3.10.2"
  }
 },
 "nbformat": 4,
 "nbformat_minor": 5
}
